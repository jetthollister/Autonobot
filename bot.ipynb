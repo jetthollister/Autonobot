{
 "cells": [
  {
   "cell_type": "code",
   "execution_count": 1,
   "metadata": {},
   "outputs": [
    {
     "name": "stderr",
     "output_type": "stream",
     "text": [
      "[nltk_data] Downloading package punkt to\n",
      "[nltk_data]     /Users/jetthollister/nltk_data...\n",
      "[nltk_data]   Package punkt is already up-to-date!\n"
     ]
    },
    {
     "data": {
      "text/plain": [
       "True"
      ]
     },
     "execution_count": 1,
     "metadata": {},
     "output_type": "execute_result"
    }
   ],
   "source": [
    "# Rotate IP addresses\n",
    "import requests as r\n",
    "from bs4 import BeautifulSoup\n",
    "import pandas as pd\n",
    "from datetime import datetime\n",
    "import tweepy, json\n",
    "\n",
    "import nltk\n",
    "from nltk import sent_tokenize\n",
    "nltk.download('punkt')"
   ]
  },
  {
   "cell_type": "code",
   "execution_count": 2,
   "metadata": {},
   "outputs": [],
   "source": [
    "# Tweepy info\n",
    "\n",
    "CONSUMER_KEY = 'pUHzK7aVAOIP8LtT71IkLYmUJ'\n",
    "CONSUMER_SECRET = 'R59s8VEHOCVkcyOHBZShRpE9aJ6wCqNzGiKyEILJ7KFgqu8zXx'\n",
    "ACCESS_KEY = '1498751586-6eQO2nqrFzs1541fhahjCUOZQWIwQQK3BfUmmuh'\n",
    "ACCESS_SECRET = 'wFHGqYDNMs0iJVvoocHH2uJINyQOXiStzvoGmyUn5KE3O'\n",
    "auth = tweepy.OAuthHandler(CONSUMER_KEY, CONSUMER_SECRET)\n",
    "auth.set_access_token(ACCESS_KEY, ACCESS_SECRET)\n",
    "api = tweepy.API(auth)"
   ]
  },
  {
   "cell_type": "code",
   "execution_count": 7,
   "metadata": {},
   "outputs": [],
   "source": [
    "trending = []\n",
    "queue = []\n",
    "\n",
    "def manageTrends():\n",
    "    global trending, queue\n",
    "    \n",
    "    # Tweet volume threshold is currently set to 100,000\n",
    "    tweet_volume = 100000\n",
    "\n",
    "    trends = [[trend['name'], trend['tweet_volume']] for trend in api.trends_place(id=2352824)[0]['trends'] \n",
    "              if type(trend['tweet_volume']) == int and trend['tweet_volume'] >= tweet_volume\n",
    "              and trend['promoted_content'] == None]\n",
    "    \n",
    "    for obj in trends:\n",
    "        if obj[0] not in trending:\n",
    "            queue.append(obj)\n",
    "    \n",
    "    return\n",
    "    "
   ]
  },
  {
   "cell_type": "code",
   "execution_count": 8,
   "metadata": {},
   "outputs": [],
   "source": [
    "manageTrends()\n",
    "\n",
    "#trend = queue.pop(0) add this in for production\n",
    "trend = queue[0]"
   ]
  },
  {
   "cell_type": "code",
   "execution_count": 9,
   "metadata": {},
   "outputs": [
    {
     "data": {
      "text/plain": [
       "[['Twitch', 477351],\n",
       " ['Rand Paul', 111247],\n",
       " ['Liverpool', 141805],\n",
       " ['Bitcoin', 267367]]"
      ]
     },
     "execution_count": 9,
     "metadata": {},
     "output_type": "execute_result"
    }
   ],
   "source": [
    "queue"
   ]
  },
  {
   "cell_type": "code",
   "execution_count": 10,
   "metadata": {},
   "outputs": [
    {
     "data": {
      "text/plain": [
       "['Twitch', 477351]"
      ]
     },
     "execution_count": 10,
     "metadata": {},
     "output_type": "execute_result"
    }
   ],
   "source": [
    "trend"
   ]
  },
  {
   "cell_type": "code",
   "execution_count": 11,
   "metadata": {},
   "outputs": [],
   "source": [
    "# Get articles based on topics\n",
    "\n",
    "def getInfo(trend, page):\n",
    "    global titles\n",
    "    global links\n",
    "    global summaries\n",
    "    \n",
    "    today = datetime.today().strftime('%Y-%m-%d')\n",
    "    key = '878293ce72msha47261c9511818ep1f0a27jsn0d54eeb13464'\n",
    "    url = \"https://rapidapi.p.rapidapi.com/v1/search\"\n",
    "    querystring = {\"q\":trend,\n",
    "                   \"sort_by\":\"relevancy\",\"lang\":\"en\",\n",
    "                   'page_size': 5,\n",
    "                   \"page\":page,\n",
    "                   'country': 'US',\n",
    "                   'from': today}\n",
    "\n",
    "    headers = {\n",
    "        'x-rapidapi-key': key,\n",
    "        'x-rapidapi-host': \"newscatcher.p.rapidapi.com\"\n",
    "        }\n",
    "    re = r.request(\"GET\", url, headers=headers, params=querystring)\n",
    "    \n",
    "    for item in re.json()['articles']:\n",
    "        if item['link'] not in links:\n",
    "            titles.add(item['title'])  \n",
    "            links.add(item['link'])\n",
    "            summaries.add(item['summary'])\n",
    "\n",
    "    return titles"
   ]
  },
  {
   "cell_type": "code",
   "execution_count": 15,
   "metadata": {},
   "outputs": [],
   "source": [
    "titles = set()\n",
    "links = set()\n",
    "summaries = set()\n",
    "\n",
    "for i in range(1, 5):\n",
    "    getInfo(trend, i)"
   ]
  },
  {
   "cell_type": "code",
   "execution_count": 16,
   "metadata": {},
   "outputs": [
    {
     "data": {
      "text/plain": [
       "'Well, thatboth doses of the COVID-19 vaccine so we can get back to doing what we love: dancing.Thankfully, Movement producers Paxahau are playing Santa by delivering two-days of heart-thumping sets from acclaimed local beatmakers and celebrated international performers thanks to a partnership with streaming platform Twitch.Launched in September — you know, when we were supposed to be raving IRL — Movement Selects Vol.'"
      ]
     },
     "execution_count": 16,
     "metadata": {},
     "output_type": "execute_result"
    }
   ],
   "source": [
    "from gensim.summarization import summarize\n",
    "\n",
    "def getSummary(group):\n",
    "\n",
    "    summary = sent_tokenize(summarize(' '.join(group), ratio=0.1))[0]\n",
    "\n",
    "    return summary.strip()\n",
    "\n",
    "getSummary(summaries)"
   ]
  },
  {
   "cell_type": "code",
   "execution_count": 17,
   "metadata": {},
   "outputs": [
    {
     "data": {
      "text/plain": [
       "{'',\n",
       " \"A huge audience turned to Twitch to get more of their entertainment in November, according to data from Arsenal.gg — as pointed out by a StreamElements analysis. Viewers watched nearly 1.7 billion hours of Twitch content during the month. That is up slightly over October. Facebook Gaming's video viewership more than doubled year over year, though this comes with the caveat that Facebook has made dubious claims in the past about the size of its video audience. While gaming is still the core of Twitch's business, the platform is growing by expanding its appeal.\",\n",
       " 'Allied Esports, a global esports entertainment company (\"Allied Esports\" or the \"Company\") and a subsidiary of Allied Esports Entertainment, Inc. (AESE) - Get Report, has announced the launch of a 24-hour cross-channel content strategy on Twitch. Hundreds of hours of Allied Esports\\' tournament productions and exclusive original content will be programmed around the clock across the Company\\'s Twitch channels, including the newly branded \" Allied24Seven\" channel, formerly known as \"HyperXESALV.\" The new 24-hour programming schedule, which has generated more than 2 million Live Views on Allied Esports\\' Twitch channels since a pilot rollout was started in November, will include a wide selection of recent and classic Allied Esports event broadcasts from North America and Europe, including: Original Productions: High-profile events, including Ninja Vegas \\'18 and PlayTime™ with KittyPlays, featuring gaming superstars such as Ninja, KittyPlays, Myth and Pokimane, plus Cleveland Browns quarterback Baker Mayfield and New York Mets pitcher Trevor May.',\n",
       " 'CORPSE Husband is on his way to becoming one of the most-followed YouTube gaming streamers on the platform. Much to the disappointment of fans, Corpse does not have a twitch account. Who is Corpse Husband? Corpse Husband\\xa0narrates true horror stories and is known for his\\xa0unusually deep voice. He started his account in 2015, posting videos […]',\n",
       " \"Ford is promoting its just-arrived Mustang Mach-E with a virtual event that will have fans at home digitally controlling one of the electric SUVs on a custom 100,000-square-foot interactive track.\\xa0The Blue Oval is hosting the event on Twitch, the popular streaming platform, this Friday, December 18 at 9 pm EST. You can register by clicking right here.\\xa0It's unclear just how users will be in 'control' of the vehicle, but a YouTube video teaser shows a bit of the virtual track outline and footage of a finger jamming down on the 'W' key, which is gamer-speak for 'Full speed ahead!'Here's how Ford's email promo describes the experience:\\xa0'Users will travel through unique virtual electrified worlds putting the Mach-E through its paces.\",\n",
       " 'Hip-hop blogger Akademiks went HAM while clapping back at Hot 97 radio personalities Ebro and Rosenberg for insulting his work. After being called a “talentless hack,” the controversial rap reporter roasted his radio foes on Twitch. Akademiks Says ‘I Eclipsed Your Whole Career’ Just days after Atlanta rapper 21 Savage publicly stuck up for Akademiks […] The post Akademiks Returns Fire On Ebro + Rosenberg appeared first on SOHH.com.',\n",
       " \"I'm calling it now: live-streaming won the pandemic. (Broadly speaking, so did billionaires .) At this point, the numbers are annihilating. In October, millions (including myself) spent 1.6 billion hours on Twitch, which represents a 99 percent jump in year-over-year growth, according to StreamElements and Arsenal.gg's November report. And even that doesn't account for just how many things were converted into streaming video — events, holidays, relationships, and more. In the early days of the pandemic, we tried to cram the offline world into the series of tubes we call online.\",\n",
       " 'IMPACT posted these highlights following last night’s show that aired on AXS-TV and Twitch. \\xa0 The post IMPACT Highlights: Omega, Good Brothers, Tony Khan and Tony Schiavone appear appeared first on WWE News and Results, RAW and Smackdown Results, Impact News, ROH News.',\n",
       " \"Illustration by Alex Castro / The Verge Twitch will no longer allow streamers and commenters to go around calling one another 'simps.' The term — a recent favorite in the Twitch community that nominally refers to men who seem desperate for a woman's attention — will be banned when used as an insult under Twitch's upcoming revamp of its harassment policy. 'Incel' and 'virgin' will be banned as insults, too, Twitch COO Sara Clemens said during a live-streamed town hall this afternoon. The new policy, first spotted by esports consultant Rod Breslau, will go into effect on January 22nd.\",\n",
       " 'Impact Wrestling Suffers Big Drops In Viewership On AXS And Twitch From Last Week',\n",
       " \"In 2020, the international livestreaming scene has been a lifeline for millions of people who'd otherwise have gone stir-crazy while social distancing, and it's been reflected in the audience numbers. Amazon's Twitch has continued to break viewer records, its competitor Facebook Gaming has seen a steady rise, and increasingly, users are flocking to non-gaming DIY content like video logs and beauty tips. These are some of the major points from the latest 'State of the Stream' report, courtesy of StreamElements and its analytics partner Arsenal.\",\n",
       " 'MEMPHIS, Tenn., Dec. 16, 2020 /PRNewswire/ --\\xa0Gaming professional DrLupo will engage his 12.5 million followers with a new challenge: On Dec. 19-20, he will host the third-annual Build Against Cancer livestream, featuring celebrity appearances, lively co-hosts, a special feature with \"the real Dr. Lupo,\" and more in an effort to raise $2 million for St. Jude Children\\'s Research Hospital® in just 24 hours. This event brings DrLupo\\'s total raised for St. Jude on track to nearly $10 million, an accomplishment that will break the record for most money raised by a single creator for the lifesaving mission of St.',\n",
       " \"Opera GX is a special version of the Opera browser built specifically to complement gaming. The browser includes unique features to help you get the most out of both gaming and browsing. Features: GX Control Need every ounce of power your machine can give you? No need to close your browser. GX Control lets you set limits on how much RAM, CPU and network usage your browser takes up. Twitch Integration Never miss a live stream. With Twitch right in your sidebar, you can easily see the channels you follow, who's online, and choose to receive notifications whenever someone you follow goes live.\",\n",
       " 'Paul Scheer and friends will be playing the multiplayer game Among Us (made famous recently by AOC) for charity on a live show tonight at 8:30pm ET/530PT that you can stream for free and any donations will go directly to Feeding America.',\n",
       " \"Photo: MARTIN BUREAU / Contributor (Getty Images) As part of an ongoing process of retooling its policies around harassment and hateful conduct, Twitch announced on Wednesday that the words 'simp,' 'incel,' and 'virgin' will no longer be allowed on the platform as long as they are used by streamers and commenters as insults. If they are used in a friendly way, the words are, presumably, still okay to use. In a statement, a Twitch spokesperson told The Verge that the platform plans to take action against the use of those terms 'specifically when they are being used to negatively refer to another person's sexual practices.\",\n",
       " 'Show Opener | Tenille vs Alisha | Moose Speaks Welcome to ProWrestling.com’s live coverage of IMPACT Wrestling on AXS TV and Twitch. The road to Hard To Kill begins in the wake of a very newsworthy Final Resolution special on IMPACT Plus this past weekend. Karl Anderson faces Chris Sabin, the Knockouts Tag Team Tournament […] The post IMPACT Wrestling Results (12/15): Karl Anderson vs Chris Sabin, Kenny Omega Invades The IMPACT Zone appeared first on ProWrestling.com.',\n",
       " 'Tuesday’s Impact Wrestling on AXS TV, which again featured Kenny Omega, drew 177,000 viewers on AXS TV, down from last week’s 221,000 viewers. It was #143 for the day in the 18-49 demographic with a 0.04 rating, down from last week’s 0.08. The show peaked at around 15,000 or so simultaneous viewers on Twitch, down […]',\n",
       " 'Tuesday’s new edition of Impact Wrestling drew 177,000 viewers on AXS TV, according to Showbuzz Daily. The show drew a 0.04 rating in the key 18-49 demographic. This week’s Impact ranked #143 for the night on the Cable Top 150, and #134 for the night in viewership. These numbers are down from last week’s show, […] The post Impact Wrestling Viewership Down on AXS and Twitch This Week appeared first on WrestlingHeadlines.com.',\n",
       " 'WASHINGTON, Dec. 16, 2020 /PRNewswire/ -- 1,000 Dreams Fund (1DF), a national nonprofit that supports the dreams of talented young women in need, today announced the establishment of its 1,000 Dreams Fund - Twitch BroadcastHER Student Scholarship, in collaboration with Twitch Student, to encourage and support women students interested in careers in the gaming industry. In 2021 and 2022, the new program will annually award $1,000 scholarships to 24 young women students who are currently enrolled in high school, a two-year, four-year college/university or graduate school and have a desire to work in the gaming industry.',\n",
       " 'click to enlarge Courtesy of Paxahau DJ Holographic. click to enlarge Allwant for Christmas, Mariah, is to rave from the comfort of our own homes. Well, thatboth doses of the COVID-19 vaccine so we can get back to doing what we love: dancing.Thankfully, Movement producers Paxahau are playing Santa by delivering two-days of heart-thumping sets from acclaimed local beatmakers and celebrated international performers thanks to a partnership with streaming platform Twitch.Launched in September — you know, when we were supposed to be raving IRL — Movement Selects Vol.'}"
      ]
     },
     "execution_count": 17,
     "metadata": {},
     "output_type": "execute_result"
    }
   ],
   "source": [
    "summaries"
   ]
  },
  {
   "cell_type": "code",
   "execution_count": 93,
   "metadata": {
    "scrolled": true
   },
   "outputs": [
    {
     "name": "stdout",
     "output_type": "stream",
     "text": [
      "Error: missing text\n",
      "0 https://www.newsweek.com/barr-tells-federal-prosecutors-investigate-clear-instances-voting-irregularities-sidestepping-1546180\n",
      "Scrape completed.\n",
      "10737 https://www.citizensvoice.com/news/wilkes-barre-officials-negotiating-lease-of-hollenback-golf-course/article_3501e415-d471-58e2-a6a7-6243690900a8.html\n",
      "Scrape completed.\n",
      "988 https://kvoa.com/ap-national-news/2020/11/09/barr-oks-election-probes-despite-little-evidence-of-fraud/\n"
     ]
    }
   ],
   "source": [
    "proxies = getProxies()\n",
    "agg = 0\n",
    "news = ''\n",
    "\n",
    "for i, link in enumerate(links[0:3]):\n",
    "    temp = scrapeText(link, proxies)\n",
    "    if len(temp) >= 100:\n",
    "        news += ' ' + temp\n",
    "    print(len(temp), link)"
   ]
  },
  {
   "cell_type": "code",
   "execution_count": 92,
   "metadata": {},
   "outputs": [],
   "source": [
    "error_count = 0\n",
    "\n",
    "def getProxies():\n",
    "    global error_count\n",
    "    url = 'https://www.us-proxy.org/'\n",
    "    try:\n",
    "        req = r.get(url, headers={}, timeout=10)\n",
    "        src = req.content\n",
    "        soup = BeautifulSoup(src, 'lxml')\n",
    "        proxy = soup.find('td').getText()\n",
    "        \n",
    "        proxies = {'http': proxy}\n",
    "        return proxies\n",
    "\n",
    "    except (r.exceptions.Timeout, r.ConnectionError):\n",
    "        error_count += 1\n",
    "        if error_count < 5:\n",
    "            print('Error - retrying...') \n",
    "            return getProxies()\n",
    "        else:\n",
    "            print('Error - tries exceeded') \n",
    "            return\n",
    "            \n",
    "def scrapeText(url, proxies):\n",
    "    global agg\n",
    "    \n",
    "    try:\n",
    "        req = r.get(url, proxies=proxies, timeout=10)\n",
    "        src = req.content\n",
    "        soup = BeautifulSoup(src, 'lxml')\n",
    "        \n",
    "        try:\n",
    "            text = soup.find('article').getText()\n",
    "            print('Scrape completed.')\n",
    "            agg += 1\n",
    "            return text\n",
    "        except:\n",
    "            print('Error: missing text')\n",
    "            return ''\n",
    "\n",
    "    except (r.exceptions.Timeout, r.ConnectionError):\n",
    "        print(f'Error: {url}')\n",
    "        return ''"
   ]
  }
 ],
 "metadata": {
  "kernelspec": {
   "display_name": "Python 3",
   "language": "python",
   "name": "python3"
  },
  "language_info": {
   "codemirror_mode": {
    "name": "ipython",
    "version": 3
   },
   "file_extension": ".py",
   "mimetype": "text/x-python",
   "name": "python",
   "nbconvert_exporter": "python",
   "pygments_lexer": "ipython3",
   "version": "3.7.4"
  }
 },
 "nbformat": 4,
 "nbformat_minor": 4
}
